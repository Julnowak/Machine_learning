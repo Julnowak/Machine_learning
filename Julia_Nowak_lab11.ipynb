{
 "cells": [
  {
   "attachments": {},
   "cell_type": "markdown",
   "metadata": {},
   "source": [
    "# Klasyfikacja z wykorzystaniem sieci neuronowych"
   ]
  },
  {
   "cell_type": "code",
   "execution_count": 1,
   "metadata": {},
   "outputs": [],
   "source": [
    "import numpy as np\n",
    "from keras.datasets import mnist\n",
    "import keras\n",
    "from keras import layers\n",
    "from sklearn.metrics import classification_report, confusion_matrix"
   ]
  },
  {
   "attachments": {},
   "cell_type": "markdown",
   "metadata": {},
   "source": [
    "# Wczytanie i konwersja danych"
   ]
  },
  {
   "attachments": {},
   "cell_type": "markdown",
   "metadata": {},
   "source": [
    "### Wczytanie bazy z biblioteki tenserflow"
   ]
  },
  {
   "cell_type": "code",
   "execution_count": 2,
   "metadata": {},
   "outputs": [],
   "source": [
    "training_set, test_set = mnist.load_data()"
   ]
  },
  {
   "attachments": {},
   "cell_type": "markdown",
   "metadata": {},
   "source": [
    "### Podział na zbiory treningowe i testowe"
   ]
  },
  {
   "cell_type": "code",
   "execution_count": 3,
   "metadata": {},
   "outputs": [],
   "source": [
    "X_train, y_train = training_set\n",
    "X_test, y_test = test_set"
   ]
  },
  {
   "attachments": {},
   "cell_type": "markdown",
   "metadata": {},
   "source": [
    "### Kształt danych"
   ]
  },
  {
   "cell_type": "code",
   "execution_count": 4,
   "metadata": {},
   "outputs": [
    {
     "name": "stdout",
     "output_type": "stream",
     "text": [
      "(60000, 28, 28)\n"
     ]
    }
   ],
   "source": [
    "print(X_train.shape)\n",
    "# ilość przykładów x wysokość obrazu x szerokość obrazu"
   ]
  },
  {
   "attachments": {},
   "cell_type": "markdown",
   "metadata": {},
   "source": [
    "### Dodanie wymiaru kanału dla zbioru testowego i treningowego"
   ]
  },
  {
   "cell_type": "code",
   "execution_count": 5,
   "metadata": {},
   "outputs": [],
   "source": [
    "X_train = np.expand_dims(X_train, -1)\n",
    "X_test = np.expand_dims(X_test, -1)"
   ]
  },
  {
   "attachments": {},
   "cell_type": "markdown",
   "metadata": {},
   "source": [
    "### Wypisanie nowego kszałtu danych"
   ]
  },
  {
   "cell_type": "code",
   "execution_count": 6,
   "metadata": {},
   "outputs": [
    {
     "name": "stdout",
     "output_type": "stream",
     "text": [
      "(60000, 28, 28, 1)\n"
     ]
    }
   ],
   "source": [
    "print(X_train.shape)"
   ]
  },
  {
   "attachments": {},
   "cell_type": "markdown",
   "metadata": {},
   "source": [
    "### Przeskalowanie wartości pikseli do zakresu 0.0 - 1.0"
   ]
  },
  {
   "cell_type": "code",
   "execution_count": 7,
   "metadata": {},
   "outputs": [],
   "source": [
    "X_train = X_train.astype(np.float64) / 255.0  \n",
    "X_test = X_test.astype(np.float64) / 255.0"
   ]
  },
  {
   "attachments": {},
   "cell_type": "markdown",
   "metadata": {},
   "source": [
    "# Przygotowanie eksperymentu"
   ]
  },
  {
   "attachments": {},
   "cell_type": "markdown",
   "metadata": {},
   "source": [
    "### Zefiniowanie wartści definujących warunki eksperymentu"
   ]
  },
  {
   "cell_type": "code",
   "execution_count": 8,
   "metadata": {},
   "outputs": [],
   "source": [
    "# ilość klas do klasyfikacji (10 klas, bo cyfry są od 0 - 9)\n",
    "num_classes = 10\n",
    "\n",
    "# rozmiar wejścia na sieć dla obrazu w skali szarości z jednym kanałem\n",
    "input_shape = (28, 28, 1)\n",
    "\n",
    "# rozmiar paczki będącej jednorazowym wejściem na sieć\n",
    "batch_size = 128\n",
    "\n",
    "# ilość epok uczenia ( liczbę wpok interpretujemy “pokazanie” wszystkich przykładów modelowi )\n",
    "epochs = 30"
   ]
  },
  {
   "attachments": {},
   "cell_type": "markdown",
   "metadata": {},
   "source": [
    "### Przygotowanie modelu"
   ]
  },
  {
   "cell_type": "code",
   "execution_count": 9,
   "metadata": {},
   "outputs": [],
   "source": [
    "model = keras.Sequential(\n",
    "        [\n",
    "            keras.Input(shape=input_shape),\n",
    "            keras.layers.Flatten(),\n",
    "            layers.Dense(num_classes, activation=\"softmax\")\n",
    "        ]\n",
    "    )"
   ]
  },
  {
   "attachments": {},
   "cell_type": "markdown",
   "metadata": {},
   "source": [
    "### Podsumowanie"
   ]
  },
  {
   "cell_type": "code",
   "execution_count": 10,
   "metadata": {},
   "outputs": [
    {
     "name": "stdout",
     "output_type": "stream",
     "text": [
      "Model: \"sequential\"\n",
      "_________________________________________________________________\n",
      " Layer (type)                Output Shape              Param #   \n",
      "=================================================================\n",
      " flatten (Flatten)           (None, 784)               0         \n",
      "                                                                 \n",
      " dense (Dense)               (None, 10)                7850      \n",
      "                                                                 \n",
      "=================================================================\n",
      "Total params: 7,850\n",
      "Trainable params: 7,850\n",
      "Non-trainable params: 0\n",
      "_________________________________________________________________\n"
     ]
    }
   ],
   "source": [
    "model.summary()"
   ]
  },
  {
   "attachments": {},
   "cell_type": "markdown",
   "metadata": {},
   "source": [
    "### Kompilacja"
   ]
  },
  {
   "cell_type": "code",
   "execution_count": 11,
   "metadata": {},
   "outputs": [],
   "source": [
    "model.compile(loss=\"sparse_categorical_crossentropy\", optimizer=\"adam\", metrics=[\"accuracy\"])"
   ]
  },
  {
   "attachments": {},
   "cell_type": "markdown",
   "metadata": {},
   "source": [
    "# Uczenie modelu"
   ]
  },
  {
   "cell_type": "code",
   "execution_count": 12,
   "metadata": {},
   "outputs": [
    {
     "name": "stdout",
     "output_type": "stream",
     "text": [
      "Epoch 1/30\n",
      "375/375 [==============================] - 3s 6ms/step - loss: 0.7421 - accuracy: 0.8169 - val_loss: 0.4098 - val_accuracy: 0.8952\n",
      "Epoch 2/30\n",
      "375/375 [==============================] - 2s 6ms/step - loss: 0.3891 - accuracy: 0.8963 - val_loss: 0.3336 - val_accuracy: 0.9099\n",
      "Epoch 3/30\n",
      "375/375 [==============================] - 2s 5ms/step - loss: 0.3381 - accuracy: 0.9069 - val_loss: 0.3078 - val_accuracy: 0.9159\n",
      "Epoch 4/30\n",
      "375/375 [==============================] - 2s 6ms/step - loss: 0.3140 - accuracy: 0.9132 - val_loss: 0.2938 - val_accuracy: 0.9191\n",
      "Epoch 5/30\n",
      "375/375 [==============================] - 3s 7ms/step - loss: 0.3002 - accuracy: 0.9168 - val_loss: 0.2846 - val_accuracy: 0.9224\n",
      "Epoch 6/30\n",
      "375/375 [==============================] - 2s 6ms/step - loss: 0.2903 - accuracy: 0.9195 - val_loss: 0.2788 - val_accuracy: 0.9231\n",
      "Epoch 7/30\n",
      "375/375 [==============================] - 2s 6ms/step - loss: 0.2834 - accuracy: 0.9209 - val_loss: 0.2734 - val_accuracy: 0.9248\n",
      "Epoch 8/30\n",
      "375/375 [==============================] - 3s 7ms/step - loss: 0.2779 - accuracy: 0.9217 - val_loss: 0.2712 - val_accuracy: 0.9252\n",
      "Epoch 9/30\n",
      "375/375 [==============================] - 3s 7ms/step - loss: 0.2733 - accuracy: 0.9224 - val_loss: 0.2688 - val_accuracy: 0.9255\n",
      "Epoch 10/30\n",
      "375/375 [==============================] - 2s 6ms/step - loss: 0.2695 - accuracy: 0.9243 - val_loss: 0.2666 - val_accuracy: 0.9270\n",
      "Epoch 11/30\n",
      "375/375 [==============================] - 2s 5ms/step - loss: 0.2666 - accuracy: 0.9258 - val_loss: 0.2644 - val_accuracy: 0.9280\n",
      "Epoch 12/30\n",
      "375/375 [==============================] - 2s 5ms/step - loss: 0.2641 - accuracy: 0.9264 - val_loss: 0.2647 - val_accuracy: 0.9269\n",
      "Epoch 13/30\n",
      "375/375 [==============================] - 3s 7ms/step - loss: 0.2620 - accuracy: 0.9273 - val_loss: 0.2637 - val_accuracy: 0.9277\n",
      "Epoch 14/30\n",
      "375/375 [==============================] - 2s 6ms/step - loss: 0.2593 - accuracy: 0.9278 - val_loss: 0.2621 - val_accuracy: 0.9289\n",
      "Epoch 15/30\n",
      "375/375 [==============================] - 2s 7ms/step - loss: 0.2577 - accuracy: 0.9283 - val_loss: 0.2627 - val_accuracy: 0.9282\n",
      "Epoch 16/30\n",
      "375/375 [==============================] - 3s 7ms/step - loss: 0.2558 - accuracy: 0.9289 - val_loss: 0.2614 - val_accuracy: 0.9290\n",
      "Epoch 17/30\n",
      "375/375 [==============================] - 2s 7ms/step - loss: 0.2539 - accuracy: 0.9292 - val_loss: 0.2614 - val_accuracy: 0.9292\n",
      "Epoch 18/30\n",
      "375/375 [==============================] - 2s 6ms/step - loss: 0.2530 - accuracy: 0.9290 - val_loss: 0.2593 - val_accuracy: 0.9300\n",
      "Epoch 19/30\n",
      "375/375 [==============================] - 3s 7ms/step - loss: 0.2519 - accuracy: 0.9301 - val_loss: 0.2605 - val_accuracy: 0.9298\n",
      "Epoch 20/30\n",
      "375/375 [==============================] - 3s 7ms/step - loss: 0.2499 - accuracy: 0.9305 - val_loss: 0.2594 - val_accuracy: 0.9312\n",
      "Epoch 21/30\n",
      "375/375 [==============================] - 3s 7ms/step - loss: 0.2495 - accuracy: 0.9305 - val_loss: 0.2611 - val_accuracy: 0.9287\n",
      "Epoch 22/30\n",
      "375/375 [==============================] - 2s 6ms/step - loss: 0.2482 - accuracy: 0.9311 - val_loss: 0.2582 - val_accuracy: 0.9312\n",
      "Epoch 23/30\n",
      "375/375 [==============================] - 2s 7ms/step - loss: 0.2471 - accuracy: 0.9315 - val_loss: 0.2594 - val_accuracy: 0.9302\n",
      "Epoch 24/30\n",
      "375/375 [==============================] - 2s 6ms/step - loss: 0.2459 - accuracy: 0.9314 - val_loss: 0.2587 - val_accuracy: 0.9308\n",
      "Epoch 25/30\n",
      "375/375 [==============================] - 2s 6ms/step - loss: 0.2452 - accuracy: 0.9325 - val_loss: 0.2588 - val_accuracy: 0.9312\n",
      "Epoch 26/30\n",
      "375/375 [==============================] - 3s 7ms/step - loss: 0.2443 - accuracy: 0.9315 - val_loss: 0.2610 - val_accuracy: 0.9302\n",
      "Epoch 27/30\n",
      "375/375 [==============================] - 3s 7ms/step - loss: 0.2437 - accuracy: 0.9325 - val_loss: 0.2592 - val_accuracy: 0.9302\n",
      "Epoch 28/30\n",
      "375/375 [==============================] - 3s 7ms/step - loss: 0.2427 - accuracy: 0.9323 - val_loss: 0.2600 - val_accuracy: 0.9305\n",
      "Epoch 29/30\n",
      "375/375 [==============================] - 2s 5ms/step - loss: 0.2422 - accuracy: 0.9323 - val_loss: 0.2594 - val_accuracy: 0.9302\n",
      "Epoch 30/30\n",
      "375/375 [==============================] - 2s 6ms/step - loss: 0.2414 - accuracy: 0.9325 - val_loss: 0.2622 - val_accuracy: 0.9295\n"
     ]
    },
    {
     "data": {
      "text/plain": [
       "<keras.callbacks.History at 0x1bb01443fd0>"
      ]
     },
     "execution_count": 12,
     "metadata": {},
     "output_type": "execute_result"
    }
   ],
   "source": [
    "model.fit(X_train, y_train, batch_size=batch_size, epochs=epochs, validation_split=0.2)"
   ]
  },
  {
   "attachments": {},
   "cell_type": "markdown",
   "metadata": {},
   "source": [
    "Obserwujemy spadekk funkcji kosztu (loss) oraz wzrost metryki accuracy z epoki na epokę na zbiorze uczącym i walidacyjnym."
   ]
  },
  {
   "attachments": {},
   "cell_type": "markdown",
   "metadata": {},
   "source": [
    "# Ocena modelu"
   ]
  },
  {
   "cell_type": "code",
   "execution_count": 13,
   "metadata": {},
   "outputs": [],
   "source": [
    "from sklearn.metrics import classification_report, confusion_matrix"
   ]
  },
  {
   "attachments": {},
   "cell_type": "markdown",
   "metadata": {},
   "source": [
    "# Generacja odpowiedzi modelu n zbiorze testowym"
   ]
  },
  {
   "cell_type": "code",
   "execution_count": 14,
   "metadata": {},
   "outputs": [
    {
     "name": "stdout",
     "output_type": "stream",
     "text": [
      "313/313 [==============================] - 2s 5ms/step\n",
      "              precision    recall  f1-score   support\n",
      "\n",
      "           0       0.95      0.98      0.97       980\n",
      "           1       0.97      0.98      0.98      1135\n",
      "           2       0.91      0.91      0.91      1032\n",
      "           3       0.94      0.88      0.91      1010\n",
      "           4       0.94      0.93      0.93       982\n",
      "           5       0.90      0.88      0.89       892\n",
      "           6       0.95      0.95      0.95       958\n",
      "           7       0.92      0.93      0.93      1028\n",
      "           8       0.87      0.91      0.89       974\n",
      "           9       0.92      0.91      0.91      1009\n",
      "\n",
      "    accuracy                           0.93     10000\n",
      "   macro avg       0.93      0.93      0.93     10000\n",
      "weighted avg       0.93      0.93      0.93     10000\n",
      "\n"
     ]
    }
   ],
   "source": [
    "y_probab = model.predict(X_test)\n",
    "y_pred = np.argmax(y_probab, axis=1)\n",
    "\n",
    "print(classification_report(y_test, y_pred))"
   ]
  },
  {
   "cell_type": "code",
   "execution_count": 15,
   "metadata": {},
   "outputs": [
    {
     "name": "stdout",
     "output_type": "stream",
     "text": [
      "[[ 964    0    1    2    0    6    4    2    1    0]\n",
      " [   0 1116    3    1    0    1    4    2    8    0]\n",
      " [   4    8  939   10    6    4   11    8   39    3]\n",
      " [   5    0   27  888    0   40    3   12   29    6]\n",
      " [   1    2    8    1  914    0    8    5   10   33]\n",
      " [   9    3    7   19    7  786   12    9   32    8]\n",
      " [  13    3    9    1    7   12  910    1    2    0]\n",
      " [   1    6   24    5    6    1    0  958    2   25]\n",
      " [   7    6   10   14    8   21    7   11  883    7]\n",
      " [  11    7    1    7   26    6    0   29    8  914]]\n"
     ]
    }
   ],
   "source": [
    "print(confusion_matrix(y_test, y_pred))"
   ]
  },
  {
   "attachments": {},
   "cell_type": "markdown",
   "metadata": {},
   "source": [
    "# Uczenie modeli nieliniowych"
   ]
  },
  {
   "attachments": {},
   "cell_type": "markdown",
   "metadata": {},
   "source": [
    "### Model MLP"
   ]
  },
  {
   "cell_type": "code",
   "execution_count": 18,
   "metadata": {},
   "outputs": [
    {
     "name": "stdout",
     "output_type": "stream",
     "text": [
      "Model: \"sequential_3\"\n",
      "_________________________________________________________________\n",
      " Layer (type)                Output Shape              Param #   \n",
      "=================================================================\n",
      " flatten_3 (Flatten)         (None, 784)               0         \n",
      "                                                                 \n",
      " dense_5 (Dense)             (None, 64)                50240     \n",
      "                                                                 \n",
      " dense_6 (Dense)             (None, 128)               8320      \n",
      "                                                                 \n",
      " dense_7 (Dense)             (None, 10)                1290      \n",
      "                                                                 \n",
      "=================================================================\n",
      "Total params: 59,850\n",
      "Trainable params: 59,850\n",
      "Non-trainable params: 0\n",
      "_________________________________________________________________\n"
     ]
    }
   ],
   "source": [
    "model = keras.Sequential(\n",
    "        [\n",
    "            keras.Input(shape=input_shape),\n",
    "            keras.layers.Flatten(),\n",
    "            layers.Dense(64, activation=\"tanh\"),\n",
    "            layers.Dense(128, activation=\"tanh\"),\n",
    "            layers.Dense(num_classes, activation=\"softmax\")\n",
    "        ]\n",
    "    )\n",
    "\n",
    "model.summary()"
   ]
  },
  {
   "cell_type": "code",
   "execution_count": 20,
   "metadata": {},
   "outputs": [
    {
     "name": "stdout",
     "output_type": "stream",
     "text": [
      "Epoch 1/30\n",
      "375/375 [==============================] - 3s 7ms/step - loss: 0.4014 - accuracy: 0.8869 - val_loss: 0.2242 - val_accuracy: 0.9357\n",
      "Epoch 2/30\n",
      "375/375 [==============================] - 3s 7ms/step - loss: 0.1903 - accuracy: 0.9442 - val_loss: 0.1711 - val_accuracy: 0.9508\n",
      "Epoch 3/30\n",
      "375/375 [==============================] - 3s 7ms/step - loss: 0.1382 - accuracy: 0.9590 - val_loss: 0.1446 - val_accuracy: 0.9582\n",
      "Epoch 4/30\n",
      "375/375 [==============================] - 3s 7ms/step - loss: 0.1081 - accuracy: 0.9685 - val_loss: 0.1207 - val_accuracy: 0.9638\n",
      "Epoch 5/30\n",
      "375/375 [==============================] - 3s 7ms/step - loss: 0.0869 - accuracy: 0.9739 - val_loss: 0.1243 - val_accuracy: 0.9653\n",
      "Epoch 6/30\n",
      "375/375 [==============================] - 3s 7ms/step - loss: 0.0709 - accuracy: 0.9783 - val_loss: 0.1036 - val_accuracy: 0.9700\n",
      "Epoch 7/30\n",
      "375/375 [==============================] - 3s 7ms/step - loss: 0.0591 - accuracy: 0.9824 - val_loss: 0.1040 - val_accuracy: 0.9696\n",
      "Epoch 8/30\n",
      "375/375 [==============================] - 3s 7ms/step - loss: 0.0495 - accuracy: 0.9852 - val_loss: 0.1046 - val_accuracy: 0.9702\n",
      "Epoch 9/30\n",
      "375/375 [==============================] - 3s 7ms/step - loss: 0.0414 - accuracy: 0.9872 - val_loss: 0.1059 - val_accuracy: 0.9717\n",
      "Epoch 10/30\n",
      "375/375 [==============================] - 2s 6ms/step - loss: 0.0346 - accuracy: 0.9901 - val_loss: 0.1055 - val_accuracy: 0.9707\n",
      "Epoch 11/30\n",
      "375/375 [==============================] - 3s 7ms/step - loss: 0.0288 - accuracy: 0.9919 - val_loss: 0.1092 - val_accuracy: 0.9702\n",
      "Epoch 12/30\n",
      "375/375 [==============================] - 3s 7ms/step - loss: 0.0245 - accuracy: 0.9933 - val_loss: 0.1135 - val_accuracy: 0.9697\n",
      "Epoch 13/30\n",
      "375/375 [==============================] - 3s 7ms/step - loss: 0.0199 - accuracy: 0.9945 - val_loss: 0.1198 - val_accuracy: 0.9689\n",
      "Epoch 14/30\n",
      "375/375 [==============================] - 3s 7ms/step - loss: 0.0187 - accuracy: 0.9947 - val_loss: 0.1199 - val_accuracy: 0.9682\n",
      "Epoch 15/30\n",
      "375/375 [==============================] - 3s 8ms/step - loss: 0.0148 - accuracy: 0.9962 - val_loss: 0.1178 - val_accuracy: 0.9701\n",
      "Epoch 16/30\n",
      "375/375 [==============================] - 2s 6ms/step - loss: 0.0124 - accuracy: 0.9971 - val_loss: 0.1172 - val_accuracy: 0.9705\n",
      "Epoch 17/30\n",
      "375/375 [==============================] - 3s 8ms/step - loss: 0.0112 - accuracy: 0.9973 - val_loss: 0.1289 - val_accuracy: 0.9699\n",
      "Epoch 18/30\n",
      "375/375 [==============================] - 3s 7ms/step - loss: 0.0085 - accuracy: 0.9980 - val_loss: 0.1299 - val_accuracy: 0.9712\n",
      "Epoch 19/30\n",
      "375/375 [==============================] - 3s 7ms/step - loss: 0.0098 - accuracy: 0.9972 - val_loss: 0.1428 - val_accuracy: 0.9678\n",
      "Epoch 20/30\n",
      "375/375 [==============================] - 2s 6ms/step - loss: 0.0112 - accuracy: 0.9969 - val_loss: 0.1337 - val_accuracy: 0.9706\n",
      "Epoch 21/30\n",
      "375/375 [==============================] - 3s 8ms/step - loss: 0.0099 - accuracy: 0.9971 - val_loss: 0.1398 - val_accuracy: 0.9693\n",
      "Epoch 22/30\n",
      "375/375 [==============================] - 3s 8ms/step - loss: 0.0052 - accuracy: 0.9989 - val_loss: 0.1385 - val_accuracy: 0.9694\n",
      "Epoch 23/30\n",
      "375/375 [==============================] - 2s 6ms/step - loss: 0.0043 - accuracy: 0.9991 - val_loss: 0.1483 - val_accuracy: 0.9707\n",
      "Epoch 24/30\n",
      "375/375 [==============================] - 3s 7ms/step - loss: 0.0046 - accuracy: 0.9990 - val_loss: 0.1457 - val_accuracy: 0.9723\n",
      "Epoch 25/30\n",
      "375/375 [==============================] - 3s 7ms/step - loss: 0.0076 - accuracy: 0.9977 - val_loss: 0.1499 - val_accuracy: 0.9686\n",
      "Epoch 26/30\n",
      "375/375 [==============================] - 2s 7ms/step - loss: 0.0064 - accuracy: 0.9980 - val_loss: 0.1434 - val_accuracy: 0.9718\n",
      "Epoch 27/30\n",
      "375/375 [==============================] - 3s 8ms/step - loss: 0.0038 - accuracy: 0.9992 - val_loss: 0.1564 - val_accuracy: 0.9703\n",
      "Epoch 28/30\n",
      "375/375 [==============================] - 3s 8ms/step - loss: 0.0017 - accuracy: 0.9999 - val_loss: 0.1481 - val_accuracy: 0.9728\n",
      "Epoch 29/30\n",
      "375/375 [==============================] - 3s 7ms/step - loss: 8.7064e-04 - accuracy: 0.9999 - val_loss: 0.1450 - val_accuracy: 0.9731\n",
      "Epoch 30/30\n",
      "375/375 [==============================] - 3s 8ms/step - loss: 4.4167e-04 - accuracy: 1.0000 - val_loss: 0.1453 - val_accuracy: 0.9738\n"
     ]
    },
    {
     "data": {
      "text/plain": [
       "<keras.callbacks.History at 0x1bb0359af80>"
      ]
     },
     "execution_count": 20,
     "metadata": {},
     "output_type": "execute_result"
    }
   ],
   "source": [
    "model.compile(loss=\"sparse_categorical_crossentropy\", optimizer=\"adam\", metrics=[\"accuracy\"])\n",
    "model.fit(X_train, y_train, batch_size=batch_size, epochs=epochs, validation_split=0.2)"
   ]
  },
  {
   "cell_type": "code",
   "execution_count": 21,
   "metadata": {},
   "outputs": [
    {
     "name": "stdout",
     "output_type": "stream",
     "text": [
      "313/313 [==============================] - 1s 4ms/step\n",
      "              precision    recall  f1-score   support\n",
      "\n",
      "           0       0.97      0.99      0.98       980\n",
      "           1       0.99      0.99      0.99      1135\n",
      "           2       0.97      0.97      0.97      1032\n",
      "           3       0.95      0.98      0.96      1010\n",
      "           4       0.98      0.98      0.98       982\n",
      "           5       0.97      0.96      0.97       892\n",
      "           6       0.98      0.98      0.98       958\n",
      "           7       0.97      0.97      0.97      1028\n",
      "           8       0.97      0.96      0.97       974\n",
      "           9       0.98      0.96      0.97      1009\n",
      "\n",
      "    accuracy                           0.97     10000\n",
      "   macro avg       0.97      0.97      0.97     10000\n",
      "weighted avg       0.97      0.97      0.97     10000\n",
      "\n",
      "[[ 973    0    1    2    0    2    1    1    0    0]\n",
      " [   1 1122    1    4    0    1    2    1    3    0]\n",
      " [   6    1 1005    5    3    0    2    6    4    0]\n",
      " [   0    0    2  988    0    5    0    5    3    7]\n",
      " [   1    0    3    2  959    1    6    0    2    8]\n",
      " [   5    0    0   17    2  854    7    1    4    2]\n",
      " [   4    1    2    1    3    5  938    1    2    1]\n",
      " [   2    2   12    6    0    1    0  996    5    4]\n",
      " [   6    0    4    7    6    6    2    4  937    2]\n",
      " [   4    3    4    9    8    2    0    7    4  968]]\n"
     ]
    }
   ],
   "source": [
    "y_probab = model.predict(X_test)\n",
    "y_pred = np.argmax(y_probab, axis=1)\n",
    "\n",
    "print(classification_report(y_test, y_pred))\n",
    "print(confusion_matrix(y_test, y_pred))"
   ]
  },
  {
   "attachments": {},
   "cell_type": "markdown",
   "metadata": {},
   "source": [
    "### Sieć konwolucyjna"
   ]
  },
  {
   "cell_type": "code",
   "execution_count": 23,
   "metadata": {},
   "outputs": [
    {
     "name": "stdout",
     "output_type": "stream",
     "text": [
      "Model: \"sequential_5\"\n",
      "_________________________________________________________________\n",
      " Layer (type)                Output Shape              Param #   \n",
      "=================================================================\n",
      " conv2d_4 (Conv2D)           (None, 26, 26, 32)        320       \n",
      "                                                                 \n",
      " max_pooling2d_4 (MaxPooling  (None, 13, 13, 32)       0         \n",
      " 2D)                                                             \n",
      "                                                                 \n",
      " conv2d_5 (Conv2D)           (None, 11, 11, 64)        18496     \n",
      "                                                                 \n",
      " max_pooling2d_5 (MaxPooling  (None, 5, 5, 64)         0         \n",
      " 2D)                                                             \n",
      "                                                                 \n",
      " flatten_5 (Flatten)         (None, 1600)              0         \n",
      "                                                                 \n",
      " dropout_2 (Dropout)         (None, 1600)              0         \n",
      "                                                                 \n",
      " dense_9 (Dense)             (None, 10)                16010     \n",
      "                                                                 \n",
      "=================================================================\n",
      "Total params: 34,826\n",
      "Trainable params: 34,826\n",
      "Non-trainable params: 0\n",
      "_________________________________________________________________\n"
     ]
    }
   ],
   "source": [
    "model = keras.Sequential(\n",
    "        [\n",
    "            keras.Input(shape=input_shape),\n",
    "            layers.Conv2D(32, kernel_size=(3, 3), activation=\"relu\"),\n",
    "            layers.MaxPooling2D(pool_size=(2, 2)),\n",
    "            layers.Conv2D(64, kernel_size=(3, 3), activation=\"relu\"),\n",
    "            layers.MaxPooling2D(pool_size=(2, 2)),\n",
    "            layers.Flatten(),\n",
    "            layers.Dropout(0.5),\n",
    "            layers.Dense(num_classes, activation=\"softmax\"),\n",
    "        ]\n",
    "    )\n",
    "\n",
    "model.summary()"
   ]
  },
  {
   "cell_type": "code",
   "execution_count": 24,
   "metadata": {},
   "outputs": [
    {
     "name": "stdout",
     "output_type": "stream",
     "text": [
      "Epoch 1/30\n",
      "375/375 [==============================] - 26s 68ms/step - loss: 0.3886 - accuracy: 0.8823 - val_loss: 0.1046 - val_accuracy: 0.9694\n",
      "Epoch 2/30\n",
      "375/375 [==============================] - 24s 63ms/step - loss: 0.1157 - accuracy: 0.9647 - val_loss: 0.0693 - val_accuracy: 0.9800\n",
      "Epoch 3/30\n",
      "375/375 [==============================] - 23s 61ms/step - loss: 0.0888 - accuracy: 0.9726 - val_loss: 0.0584 - val_accuracy: 0.9833\n",
      "Epoch 4/30\n",
      "375/375 [==============================] - 23s 62ms/step - loss: 0.0751 - accuracy: 0.9763 - val_loss: 0.0493 - val_accuracy: 0.9858\n",
      "Epoch 5/30\n",
      "375/375 [==============================] - 24s 64ms/step - loss: 0.0625 - accuracy: 0.9802 - val_loss: 0.0459 - val_accuracy: 0.9872\n",
      "Epoch 6/30\n",
      "375/375 [==============================] - 26s 68ms/step - loss: 0.0577 - accuracy: 0.9828 - val_loss: 0.0443 - val_accuracy: 0.9874\n",
      "Epoch 7/30\n",
      "375/375 [==============================] - 25s 67ms/step - loss: 0.0546 - accuracy: 0.9834 - val_loss: 0.0387 - val_accuracy: 0.9881\n",
      "Epoch 8/30\n",
      "375/375 [==============================] - 23s 60ms/step - loss: 0.0492 - accuracy: 0.9837 - val_loss: 0.0379 - val_accuracy: 0.9893\n",
      "Epoch 9/30\n",
      "375/375 [==============================] - 24s 63ms/step - loss: 0.0470 - accuracy: 0.9849 - val_loss: 0.0369 - val_accuracy: 0.9893\n",
      "Epoch 10/30\n",
      "375/375 [==============================] - 25s 66ms/step - loss: 0.0451 - accuracy: 0.9857 - val_loss: 0.0366 - val_accuracy: 0.9901\n",
      "Epoch 11/30\n",
      "375/375 [==============================] - 24s 65ms/step - loss: 0.0424 - accuracy: 0.9864 - val_loss: 0.0350 - val_accuracy: 0.9904\n",
      "Epoch 12/30\n",
      "375/375 [==============================] - 24s 63ms/step - loss: 0.0397 - accuracy: 0.9874 - val_loss: 0.0329 - val_accuracy: 0.9909\n",
      "Epoch 13/30\n",
      "375/375 [==============================] - 23s 62ms/step - loss: 0.0386 - accuracy: 0.9873 - val_loss: 0.0325 - val_accuracy: 0.9908\n",
      "Epoch 14/30\n",
      "375/375 [==============================] - 23s 62ms/step - loss: 0.0366 - accuracy: 0.9884 - val_loss: 0.0327 - val_accuracy: 0.9911\n",
      "Epoch 15/30\n",
      "375/375 [==============================] - 24s 65ms/step - loss: 0.0330 - accuracy: 0.9892 - val_loss: 0.0333 - val_accuracy: 0.9914\n",
      "Epoch 16/30\n",
      "375/375 [==============================] - 22s 60ms/step - loss: 0.0344 - accuracy: 0.9892 - val_loss: 0.0325 - val_accuracy: 0.9912\n",
      "Epoch 17/30\n",
      "375/375 [==============================] - 23s 62ms/step - loss: 0.0312 - accuracy: 0.9897 - val_loss: 0.0313 - val_accuracy: 0.9913\n",
      "Epoch 18/30\n",
      "375/375 [==============================] - 23s 62ms/step - loss: 0.0298 - accuracy: 0.9898 - val_loss: 0.0310 - val_accuracy: 0.9918\n",
      "Epoch 19/30\n",
      "375/375 [==============================] - 23s 62ms/step - loss: 0.0298 - accuracy: 0.9907 - val_loss: 0.0297 - val_accuracy: 0.9918\n",
      "Epoch 20/30\n",
      "375/375 [==============================] - 24s 64ms/step - loss: 0.0288 - accuracy: 0.9904 - val_loss: 0.0352 - val_accuracy: 0.9905\n",
      "Epoch 21/30\n",
      "375/375 [==============================] - 24s 64ms/step - loss: 0.0279 - accuracy: 0.9906 - val_loss: 0.0331 - val_accuracy: 0.9912\n",
      "Epoch 22/30\n",
      "375/375 [==============================] - 23s 62ms/step - loss: 0.0271 - accuracy: 0.9904 - val_loss: 0.0292 - val_accuracy: 0.9920\n",
      "Epoch 23/30\n",
      "375/375 [==============================] - 24s 63ms/step - loss: 0.0265 - accuracy: 0.9913 - val_loss: 0.0311 - val_accuracy: 0.9906\n",
      "Epoch 24/30\n",
      "375/375 [==============================] - 24s 63ms/step - loss: 0.0266 - accuracy: 0.9911 - val_loss: 0.0323 - val_accuracy: 0.9911\n",
      "Epoch 25/30\n",
      "375/375 [==============================] - 24s 63ms/step - loss: 0.0253 - accuracy: 0.9917 - val_loss: 0.0281 - val_accuracy: 0.9927\n",
      "Epoch 26/30\n",
      "375/375 [==============================] - 24s 64ms/step - loss: 0.0223 - accuracy: 0.9930 - val_loss: 0.0320 - val_accuracy: 0.9917\n",
      "Epoch 27/30\n",
      "375/375 [==============================] - 23s 62ms/step - loss: 0.0215 - accuracy: 0.9924 - val_loss: 0.0292 - val_accuracy: 0.9926\n",
      "Epoch 28/30\n",
      "375/375 [==============================] - 23s 62ms/step - loss: 0.0217 - accuracy: 0.9926 - val_loss: 0.0292 - val_accuracy: 0.9923\n",
      "Epoch 29/30\n",
      "375/375 [==============================] - 24s 64ms/step - loss: 0.0217 - accuracy: 0.9929 - val_loss: 0.0276 - val_accuracy: 0.9927\n",
      "Epoch 30/30\n",
      "375/375 [==============================] - 24s 64ms/step - loss: 0.0219 - accuracy: 0.9927 - val_loss: 0.0285 - val_accuracy: 0.9923\n"
     ]
    },
    {
     "data": {
      "text/plain": [
       "<keras.callbacks.History at 0x1bb03938f70>"
      ]
     },
     "execution_count": 24,
     "metadata": {},
     "output_type": "execute_result"
    }
   ],
   "source": [
    "model.compile(loss=\"sparse_categorical_crossentropy\", optimizer=\"adam\", metrics=[\"accuracy\"])\n",
    "model.fit(X_train, y_train, batch_size=batch_size, epochs=epochs, validation_split=0.2)"
   ]
  },
  {
   "cell_type": "code",
   "execution_count": 25,
   "metadata": {},
   "outputs": [
    {
     "name": "stdout",
     "output_type": "stream",
     "text": [
      "313/313 [==============================] - 8s 25ms/step\n",
      "              precision    recall  f1-score   support\n",
      "\n",
      "           0       0.99      1.00      1.00       980\n",
      "           1       0.99      1.00      0.99      1135\n",
      "           2       0.99      0.99      0.99      1032\n",
      "           3       1.00      0.99      0.99      1010\n",
      "           4       0.99      0.99      0.99       982\n",
      "           5       0.99      0.99      0.99       892\n",
      "           6       1.00      0.99      0.99       958\n",
      "           7       0.98      0.99      0.99      1028\n",
      "           8       0.99      0.99      0.99       974\n",
      "           9       0.99      0.99      0.99      1009\n",
      "\n",
      "    accuracy                           0.99     10000\n",
      "   macro avg       0.99      0.99      0.99     10000\n",
      "weighted avg       0.99      0.99      0.99     10000\n",
      "\n",
      "[[ 977    0    1    0    0    0    0    1    1    0]\n",
      " [   0 1131    3    0    0    0    1    0    0    0]\n",
      " [   0    1 1026    0    0    0    0    5    0    0]\n",
      " [   0    0    3 1002    0    2    0    2    1    0]\n",
      " [   0    0    0    0  975    0    1    1    0    5]\n",
      " [   0    0    0    4    0  886    1    1    0    0]\n",
      " [   1    2    1    0    2    2  947    0    3    0]\n",
      " [   0    3    5    0    0    0    0 1018    1    1]\n",
      " [   4    0    1    1    1    1    0    1  963    2]\n",
      " [   0    2    0    0    4    2    1    5    0  995]]\n"
     ]
    }
   ],
   "source": [
    "y_probab = model.predict(X_test)\n",
    "y_pred = np.argmax(y_probab, axis=1)\n",
    "\n",
    "print(classification_report(y_test, y_pred))\n",
    "print(confusion_matrix(y_test, y_pred))"
   ]
  },
  {
   "attachments": {},
   "cell_type": "markdown",
   "metadata": {},
   "source": [
    "Sieć konwolucyjna dała najlepsze wyniki z pośród badanych modeli. Zajęła ona jednak najwięcej czasu."
   ]
  }
 ],
 "metadata": {
  "kernelspec": {
   "display_name": "base",
   "language": "python",
   "name": "python3"
  },
  "language_info": {
   "codemirror_mode": {
    "name": "ipython",
    "version": 3
   },
   "file_extension": ".py",
   "mimetype": "text/x-python",
   "name": "python",
   "nbconvert_exporter": "python",
   "pygments_lexer": "ipython3",
   "version": "3.10.9"
  },
  "orig_nbformat": 4
 },
 "nbformat": 4,
 "nbformat_minor": 2
}
